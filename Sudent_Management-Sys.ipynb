{
 "cells": [
  {
   "cell_type": "markdown",
   "id": "a29264dc-d79d-40fb-be77-e8455e933d71",
   "metadata": {},
   "source": [
    "# Student Management System\n",
    "**Project by EduTech Solutions**\n",
    "\n",
    "This notebook implements a **Student Management System** that allows users to manage student records with secure login functionality, CRUD operations, and file-based storage.\n",
    "    The notebook is fully documented to provide a clear understanding of each step.\n",
    "\n",
    "---\n",
    "\n",
    "## Step 1: Project Structure\n",
    "\n",
    "The project will store files in the same directory as the notebook:\n",
    "\n",
    "- `users.txt` → Stores user credentials\n",
    "- `students.txt` → Stores student records\n",
    "- `activity_log.txt` → Logs all user activities\n",
    "\n",
    "This structure ensures separation of data and logging for better maintainability.\n"
   ]
  },
  {
   "cell_type": "code",
   "execution_count": 1,
   "id": "f2a70272-9c8f-430b-b2d3-36d07d036004",
   "metadata": {},
   "outputs": [],
   "source": [
    "# Step 2: Import Required Modules\n",
    "\n",
    "# os → interact with the file system\n",
    "# getpass → securely capture passwords\n",
    "# datetime → timestamp for logging user activities\n",
    "import os\n",
    "import getpass\n",
    "import datetime\n"
   ]
  },
  {
   "cell_type": "markdown",
   "id": "c802f1f1-d420-45af-95eb-64c6ff38fe72",
   "metadata": {},
   "source": [
    "## Step 3: File Paths\n",
    "\n",
    "Define paths for storing users, students, and activity logs.\n"
   ]
  },
  {
   "cell_type": "code",
   "execution_count": 2,
   "id": "5dd2b28a-3f90-45f9-861e-6c901bd1b203",
   "metadata": {},
   "outputs": [],
   "source": [
    "# File paths\n",
    "USER_FILE = \"users.txt\"\n",
    "STUDENT_FILE = \"students.txt\"\n",
    "LOG_FILE = \"activity_log.txt\"\n"
   ]
  },
  {
   "cell_type": "markdown",
   "id": "f12f4c0c-393c-47f5-8810-599b06c07c32",
   "metadata": {},
   "source": [
    "## Step 4: Authentication System\n",
    "\n",
    "The authentication system ensures secure access. Functions include:\n",
    "\n",
    "1. `log_activity` → logs user actions with timestamp\n",
    "2. `load_users` → loads user credentials from file\n",
    "3. `save_user` → saves new user credentials\n",
    "4. `authenticate` → checks login details against stored records\n"
   ]
  },
  {
   "cell_type": "code",
   "execution_count": 3,
   "id": "94a35f4f-4010-4fa2-97d6-e63c4f1c363b",
   "metadata": {},
   "outputs": [],
   "source": [
    "def log_activity(username, action):\n",
    "    \"\"\"Log user actions with timestamp\"\"\"\n",
    "    with open(LOG_FILE, \"a\") as log:\n",
    "        log.write(f\"{datetime.datetime.now()} - {username} - {action}\\n\")\n",
    "\n",
    "def load_users():\n",
    "    \"\"\"Load all user credentials from file\"\"\"\n",
    "    users = {}\n",
    "    if os.path.exists(USER_FILE):\n",
    "        with open(USER_FILE, \"r\") as f:\n",
    "            for line in f:\n",
    "                if \",\" in line:\n",
    "                    uname, pwd = line.strip().split(\",\", 1)\n",
    "                    users[uname] = pwd\n",
    "    return users    \n",
    "\n",
    "def save_user(username, password):\n",
    "    \"\"\"Save new user to the file\"\"\"\n",
    "    with open(USER_FILE, \"a\") as f:\n",
    "        f.write(f\"{username},{password}\\n\")        \n",
    "\n",
    "def authenticate():\n",
    "    \"\"\"Authenticate user login\"\"\"\n",
    "    users = load_users()\n",
    "    username = input(\"Enter Username: \")\n",
    "    password = getpass.getpass(\"Enter Password: \")\n",
    "    if username in users and users[username] == password:\n",
    "        log_activity(username, \"Logged in\")\n",
    "        print(\"\\n✅ Login Successful!\\n\")\n",
    "        return username\n",
    "    else:\n",
    "        print(\"\\n❌ Invalid credentials!\\n\")\n",
    "        return None\n"
   ]
  },
  {
   "cell_type": "markdown",
   "id": "c775d034-3497-4dd8-ac75-7f7391888af4",
   "metadata": {},
   "source": [
    "## Step 5: Student Data Management (CRUD)\n",
    "\n",
    "These functions manage student records stored in `students.txt`:\n",
    "\n",
    "- **Add Student** → Adds a new record\n",
    "- **View Students** → Lists all student records\n",
    "- **Search Student** → Finds a student by roll number\n",
    "- **Update Student** → Modifies an existing record\n",
    "- **Delete Student** → Removes a student record\n"
   ]
  },
  {
   "cell_type": "code",
   "execution_count": 4,
   "id": "b9c0682a-feda-4433-a9e1-0ca99af8f3be",
   "metadata": {},
   "outputs": [],
   "source": [
    "def add_student(username):\n",
    "    \"\"\"Add a new student to the records\"\"\"\n",
    "    roll = input(\"Enter Roll Number: \")\n",
    "    name = input(\"Enter Name: \")\n",
    "    grade = input(\"Enter Grade: \")\n",
    "    with open(STUDENT_FILE, \"a\") as f:\n",
    "        f.write(f\"{roll},{name},{grade}\\n\")\n",
    "    log_activity(username, f\"Added student {roll}\")\n",
    "    print(\"✅ Student added successfully!\")    \n",
    "\n",
    "def view_students():\n",
    "    \"\"\"View all student records\"\"\"\n",
    "    if not os.path.exists(STUDENT_FILE):\n",
    "        print(\"No records found.\")\n",
    "        return\n",
    "    with open(STUDENT_FILE, \"r\") as f:\n",
    "        print(\"\\n--- Student Records ---\")\n",
    "        for line in f:\n",
    "            roll, name, grade = line.strip().split(\",\")\n",
    "            print(f\"Roll: {roll} | Name: {name} | Grade: {grade}\")\n",
    "\n",
    "def search_student():\n",
    "    \"\"\"Search for a student by Roll Number\"\"\"\n",
    "    roll_no = input(\"Enter Roll Number to search: \")\n",
    "    found = False            \n",
    "    if os.path.exists(STUDENT_FILE):\n",
    "        with open(STUDENT_FILE, \"r\") as f:\n",
    "            for line in f:\n",
    "                parts = line.strip().split(\",\")\n",
    "                if len(parts) != 3:\n",
    "                    continue\n",
    "                roll, name, grade = parts\n",
    "                if roll == roll_no:\n",
    "                    print(f\"✅ Found: Roll: {roll} | Name: {name} | Grade: {grade}\")\n",
    "                    found = True\n",
    "                    break \n",
    "\n",
    "def update_student(username):\n",
    "    \"\"\"Update details of an existing student\"\"\"\n",
    "    roll_no = input(\"Enter Roll Number to update: \")\n",
    "    students = [] \n",
    "    updated = False\n",
    "    if os.path.exists(STUDENT_FILE):\n",
    "        with open(STUDENT_FILE, \"r\") as f:\n",
    "            students = f.readlines()\n",
    "        with open(STUDENT_FILE, \"w\") as f:\n",
    "            for line in students:\n",
    "                roll, name, grade = line.strip().split(\",\")\n",
    "                if roll == roll_no:\n",
    "                    print(f\"Current Data → Name: {name}, Grade: {grade}\")\n",
    "                    new_name = input(\"Enter new Name: \")\n",
    "                    new_grade = input(\"Enter new Grade: \")\n",
    "                    f.write(f\"{roll},{new_name},{new_grade}\\n\")\n",
    "                    updated = True\n",
    "                    log_activity(username, f\"Updated student {roll}\")\n",
    "                else:\n",
    "                    f.write(line)\n",
    "                        \n",
    "    if updated:\n",
    "        print(\"✅ Student record updated.\")\n",
    "    else:\n",
    "        print(\"❌ Student not found.\")    \n",
    "\n",
    "def delete_student(username):\n",
    "    \"\"\"Delete a student record\"\"\"\n",
    "    roll_no = input(\"Enter Roll Number to delete: \")\n",
    "    students = [] \n",
    "    deleted = False\n",
    "    if os.path.exists(STUDENT_FILE):\n",
    "        with open(STUDENT_FILE, \"r\") as f:\n",
    "            students = f.readlines()\n",
    "        with open(STUDENT_FILE, \"w\") as f:\n",
    "            for line in students:\n",
    "                parts = line.strip().split(\",\")\n",
    "                if len(parts) != 3:\n",
    "                    f.write(line)  # keep invalid lines unchanged\n",
    "                    continue\n",
    "                roll, name, grade = parts\n",
    "                if roll == roll_no:\n",
    "                    deleted = True\n",
    "                    log_activity(username, f\"Deleted student {roll}\")\n",
    "                else:\n",
    "                    f.write(line)    \n",
    "    if deleted:\n",
    "        print(\"✅ Student record deleted.\")\n",
    "    else:\n",
    "        print(\"❌ Student not found.\")     \n"
   ]
  },
  {
   "cell_type": "markdown",
   "id": "96db43ac-e665-43cc-8705-48f3a7aa6fe0",
   "metadata": {},
   "source": [
    "## Step 6: Report Generation\n",
    "\n",
    "Generate a basic summary report of student records, showing total students and grade distribution.\n"
   ]
  },
  {
   "cell_type": "code",
   "execution_count": 5,
   "id": "7165bd0d-a43d-4d06-87ac-278606d5f334",
   "metadata": {},
   "outputs": [],
   "source": [
    "def generate_report():\n",
    "    \"\"\"Generate a summary report of students\"\"\"\n",
    "    if not os.path.exists(STUDENT_FILE):\n",
    "        print(\"No records available.\")\n",
    "        return\n",
    "    \n",
    "    total = 0\n",
    "    grades = {}\n",
    "    with open(STUDENT_FILE, \"r\") as f:\n",
    "        for line in f:\n",
    "            parts = line.strip().split(\",\")\n",
    "            if len(parts) != 3:\n",
    "                continue\n",
    "            roll, name, grade = parts\n",
    "            total += 1\n",
    "            grades[grade] = grades.get(grade, 0) + 1\n",
    "\n",
    "    print(\"\\n📊 Student Report\")\n",
    "    print(f\"Total Students: {total}\")\n",
    "    for g, count in grades.items():\n",
    "        print(f\"Grade {g}: {count} student(s)\")\n"
   ]
  },
  {
   "cell_type": "markdown",
   "id": "d07db9ef-1001-49e3-be3c-03874e4f73e2",
   "metadata": {},
   "source": [
    "## Step 7: Main Program\n",
    "\n",
    "This is the entry point. It ensures an admin exists, handles user authentication, and provides a menu-driven interface for all functionalities.\n"
   ]
  },
  {
   "cell_type": "code",
   "execution_count": 6,
   "id": "b21f72d1-befb-426c-94d0-626e55e6c56d",
   "metadata": {},
   "outputs": [
    {
     "name": "stdout",
     "output_type": "stream",
     "text": [
      "===== Student Management System =====\n"
     ]
    },
    {
     "name": "stdin",
     "output_type": "stream",
     "text": [
      "Enter Username:  admin\n",
      "Enter Password:  ········\n"
     ]
    },
    {
     "name": "stdout",
     "output_type": "stream",
     "text": [
      "\n",
      "✅ Login Successful!\n",
      "\n",
      "\n",
      "--- Main Menu ---\n",
      "1. Add Student\n",
      "2. View All Students\n",
      "3. Search Student\n",
      "4. Update Student\n",
      "5. Delete Student\n",
      "6. Generate Report\n",
      "7. Logout & Exit\n"
     ]
    },
    {
     "name": "stdin",
     "output_type": "stream",
     "text": [
      "Enter choice:  1\n",
      "Enter Roll Number:  101\n",
      "Enter Name:  Jhone\n",
      "Enter Grade:  A\n"
     ]
    },
    {
     "name": "stdout",
     "output_type": "stream",
     "text": [
      "✅ Student added successfully!\n",
      "\n",
      "--- Main Menu ---\n",
      "1. Add Student\n",
      "2. View All Students\n",
      "3. Search Student\n",
      "4. Update Student\n",
      "5. Delete Student\n",
      "6. Generate Report\n",
      "7. Logout & Exit\n"
     ]
    },
    {
     "name": "stdin",
     "output_type": "stream",
     "text": [
      "Enter choice:  1\n",
      "Enter Roll Number:  102\n",
      "Enter Name:  Dawit\n",
      "Enter Grade:  B\n"
     ]
    },
    {
     "name": "stdout",
     "output_type": "stream",
     "text": [
      "✅ Student added successfully!\n",
      "\n",
      "--- Main Menu ---\n",
      "1. Add Student\n",
      "2. View All Students\n",
      "3. Search Student\n",
      "4. Update Student\n",
      "5. Delete Student\n",
      "6. Generate Report\n",
      "7. Logout & Exit\n"
     ]
    },
    {
     "name": "stdin",
     "output_type": "stream",
     "text": [
      "Enter choice:  1\n",
      "Enter Roll Number:  103\n",
      "Enter Name:  Bereket\n",
      "Enter Grade:  C\n"
     ]
    },
    {
     "name": "stdout",
     "output_type": "stream",
     "text": [
      "✅ Student added successfully!\n",
      "\n",
      "--- Main Menu ---\n",
      "1. Add Student\n",
      "2. View All Students\n",
      "3. Search Student\n",
      "4. Update Student\n",
      "5. Delete Student\n",
      "6. Generate Report\n",
      "7. Logout & Exit\n"
     ]
    },
    {
     "name": "stdin",
     "output_type": "stream",
     "text": [
      "Enter choice:  2\n"
     ]
    },
    {
     "name": "stdout",
     "output_type": "stream",
     "text": [
      "\n",
      "--- Student Records ---\n",
      "Roll: 10 | Name: John | Grade: 10\n",
      "Roll: 12 | Name: Abuki | Grade: 9\n",
      "Roll: 12 | Name: Barkola | Grade: 9\n",
      "Roll: 100 | Name: Dawa | Grade: A\n",
      "Roll: 102 | Name: Bereket | Grade: A\n",
      "Roll: 103 | Name: Bruk | Grade: A\n",
      "Roll: 102 | Name: NANI | Grade: B\n",
      "Roll: 103 | Name: Agmas | Grade: C\n",
      "Roll: 101 | Name: Jhone | Grade: A\n",
      "Roll: 102 | Name: Dawit | Grade: B\n",
      "Roll: 103 | Name: Bereket | Grade: C\n",
      "\n",
      "--- Main Menu ---\n",
      "1. Add Student\n",
      "2. View All Students\n",
      "3. Search Student\n",
      "4. Update Student\n",
      "5. Delete Student\n",
      "6. Generate Report\n",
      "7. Logout & Exit\n"
     ]
    },
    {
     "name": "stdin",
     "output_type": "stream",
     "text": [
      "Enter choice:  3\n",
      "Enter Roll Number to search:  101\n"
     ]
    },
    {
     "name": "stdout",
     "output_type": "stream",
     "text": [
      "✅ Found: Roll: 101 | Name: Jhone | Grade: A\n",
      "\n",
      "--- Main Menu ---\n",
      "1. Add Student\n",
      "2. View All Students\n",
      "3. Search Student\n",
      "4. Update Student\n",
      "5. Delete Student\n",
      "6. Generate Report\n",
      "7. Logout & Exit\n"
     ]
    },
    {
     "name": "stdin",
     "output_type": "stream",
     "text": [
      "Enter choice:  4\n",
      "Enter Roll Number to update:  101\n"
     ]
    },
    {
     "name": "stdout",
     "output_type": "stream",
     "text": [
      "Current Data → Name: Jhone, Grade: A\n"
     ]
    },
    {
     "name": "stdin",
     "output_type": "stream",
     "text": [
      "Enter new Name:  Adane\n",
      "Enter new Grade:  B\n"
     ]
    },
    {
     "name": "stdout",
     "output_type": "stream",
     "text": [
      "✅ Student record updated.\n",
      "\n",
      "--- Main Menu ---\n",
      "1. Add Student\n",
      "2. View All Students\n",
      "3. Search Student\n",
      "4. Update Student\n",
      "5. Delete Student\n",
      "6. Generate Report\n",
      "7. Logout & Exit\n"
     ]
    },
    {
     "name": "stdin",
     "output_type": "stream",
     "text": [
      "Enter choice:  5\n",
      "Enter Roll Number to delete:  102\n"
     ]
    },
    {
     "name": "stdout",
     "output_type": "stream",
     "text": [
      "✅ Student record deleted.\n",
      "\n",
      "--- Main Menu ---\n",
      "1. Add Student\n",
      "2. View All Students\n",
      "3. Search Student\n",
      "4. Update Student\n",
      "5. Delete Student\n",
      "6. Generate Report\n",
      "7. Logout & Exit\n"
     ]
    },
    {
     "name": "stdin",
     "output_type": "stream",
     "text": [
      "Enter choice:  2\n"
     ]
    },
    {
     "name": "stdout",
     "output_type": "stream",
     "text": [
      "\n",
      "--- Student Records ---\n",
      "Roll: 10 | Name: John | Grade: 10\n",
      "Roll: 12 | Name: Abuki | Grade: 9\n",
      "Roll: 12 | Name: Barkola | Grade: 9\n",
      "Roll: 100 | Name: Dawa | Grade: A\n",
      "Roll: 103 | Name: Bruk | Grade: A\n",
      "Roll: 103 | Name: Agmas | Grade: C\n",
      "Roll: 101 | Name: Adane | Grade: B\n",
      "Roll: 103 | Name: Bereket | Grade: C\n",
      "\n",
      "--- Main Menu ---\n",
      "1. Add Student\n",
      "2. View All Students\n",
      "3. Search Student\n",
      "4. Update Student\n",
      "5. Delete Student\n",
      "6. Generate Report\n",
      "7. Logout & Exit\n"
     ]
    },
    {
     "name": "stdin",
     "output_type": "stream",
     "text": [
      "Enter choice:  6\n"
     ]
    },
    {
     "name": "stdout",
     "output_type": "stream",
     "text": [
      "\n",
      "📊 Student Report\n",
      "Total Students: 8\n",
      "Grade 10: 1 student(s)\n",
      "Grade 9: 2 student(s)\n",
      "Grade A: 2 student(s)\n",
      "Grade C: 2 student(s)\n",
      "Grade B: 1 student(s)\n",
      "\n",
      "--- Main Menu ---\n",
      "1. Add Student\n",
      "2. View All Students\n",
      "3. Search Student\n",
      "4. Update Student\n",
      "5. Delete Student\n",
      "6. Generate Report\n",
      "7. Logout & Exit\n"
     ]
    },
    {
     "name": "stdin",
     "output_type": "stream",
     "text": [
      "Enter choice:  7\n"
     ]
    },
    {
     "name": "stdout",
     "output_type": "stream",
     "text": [
      "👋 Goodbye!\n"
     ]
    }
   ],
   "source": [
    "def main():\n",
    "    print(\"===== Student Management System =====\")\n",
    "    # Ensure admin user exists\n",
    "    if not os.path.exists(USER_FILE):\n",
    "        print(\"No users found. Create an Admin account.\")\n",
    "        uname = input(\"Set Admin Username: \")\n",
    "        pwd = getpass.getpass(\"Set Admin Password: \")\n",
    "        save_user(uname, pwd)\n",
    "        print(\"✅ Admin created! Please restart the program.\")\n",
    "        return\n",
    "\n",
    "    username = None\n",
    "    while not username:\n",
    "        username = authenticate()\n",
    "    \n",
    "    while True:\n",
    "        print(\"\\n--- Main Menu ---\")\n",
    "        print(\"1. Add Student\")\n",
    "        print(\"2. View All Students\")\n",
    "        print(\"3. Search Student\")\n",
    "        print(\"4. Update Student\")\n",
    "        print(\"5. Delete Student\")\n",
    "        print(\"6. Generate Report\")\n",
    "        print(\"7. Logout & Exit\")\n",
    "        \n",
    "        choice = input(\"Enter choice: \") \n",
    "\n",
    "        if choice == \"1\":\n",
    "            add_student(username)\n",
    "        elif choice == \"2\":\n",
    "            view_students()\n",
    "        elif choice == \"3\":\n",
    "            search_student()\n",
    "        elif choice == \"4\":\n",
    "            update_student(username)\n",
    "        elif choice == \"5\":\n",
    "            delete_student(username)\n",
    "        elif choice == \"6\":\n",
    "            generate_report()\n",
    "        elif choice == \"7\":\n",
    "            log_activity(username, \"Logged out\")\n",
    "            print(\"👋 Goodbye!\")\n",
    "            break\n",
    "        else:\n",
    "            print(\"❌ Invalid choice! Please try again.\")\n",
    "\n",
    "# Run main program\n",
    "if __name__ == \"__main__\":         \n",
    "    main()\n"
   ]
  },
  {
   "cell_type": "markdown",
   "id": "d5a91d78-fb23-4e21-a18d-f60b80cdfe8f",
   "metadata": {},
   "source": [
    "# Summary\n",
    "\n",
    "**System Capabilities:**\n",
    "\n",
    "- Secure login system with activity logging\n",
    "- Add, view, search, update, delete student records\n",
    "- File-based storage for persistence (`users.txt`, `students.txt`, `activity_log.txt`)\n",
    "- Generate summary reports of students by grade\n",
    "- Menu-driven interface for ease of use\n",
    "\n",
    "**Key Learning Points:**\n",
    "\n",
    "- File handling (`open`, `read`, `write`, `os.path.exists`)\n",
    "- User authentication and password input security (`getpass`)\n",
    "- CRUD operations for structured data\n",
    "- Logging user actions with timestamps\n",
    "- Menu-driven console applications in Python\n",
    "\n",
    "This notebook serves as a **comprehensive reference** for future enhancements or review.\n"
   ]
  }
 ],
 "metadata": {
  "kernelspec": {
   "display_name": "Python 3 (ipykernel)",
   "language": "python",
   "name": "python3"
  },
  "language_info": {
   "codemirror_mode": {
    "name": "ipython",
    "version": 3
   },
   "file_extension": ".py",
   "mimetype": "text/x-python",
   "name": "python",
   "nbconvert_exporter": "python",
   "pygments_lexer": "ipython3",
   "version": "3.13.5"
  }
 },
 "nbformat": 4,
 "nbformat_minor": 5
}
